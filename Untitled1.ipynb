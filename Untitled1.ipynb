{
 "cells": [
  {
   "cell_type": "code",
   "execution_count": 1,
   "id": "optimum-finding",
   "metadata": {},
   "outputs": [
    {
     "name": "stdout",
     "output_type": "stream",
     "text": [
      "Note: you may need to restart the kernel to use updated packages.Collecting keras==2.3.1\n"
     ]
    },
    {
     "name": "stderr",
     "output_type": "stream",
     "text": [
      "  ERROR: Command errored out with exit status 1:\n",
      "   command: 'c:\\users\\ishu\\appdata\\local\\programs\\python\\python38-32\\python.exe' 'c:\\users\\ishu\\appdata\\local\\programs\\python\\python38-32\\lib\\site-packages\\pip\\_vendor\\pep517\\_in_process.py' build_wheel 'C:\\Users\\ISHU\\AppData\\Local\\Temp\\tmpwumb8f9p'\n",
      "       cwd: C:\\Users\\ISHU\\AppData\\Local\\Temp\\pip-install-1z2o17hb\\h5py\n",
      "  Complete output (71 lines):\n",
      "  running bdist_wheel\n",
      "  running build\n",
      "  running build_py\n",
      "  creating build\n",
      "  creating build\\lib.win32-3.8\n",
      "  creating build\\lib.win32-3.8\\h5py\n",
      "  copying h5py\\h5py_warnings.py -> build\\lib.win32-3.8\\h5py\n",
      "  copying h5py\\ipy_completer.py -> build\\lib.win32-3.8\\h5py\n",
      "  copying h5py\\version.py -> build\\lib.win32-3.8\\h5py\n",
      "  copying h5py\\__init__.py -> build\\lib.win32-3.8\\h5py\n",
      "  creating build\\lib.win32-3.8\\h5py\\_hl\n",
      "  copying h5py\\_hl\\attrs.py -> build\\lib.win32-3.8\\h5py\\_hl\n"
     ]
    },
    {
     "name": "stdout",
     "output_type": "stream",
     "text": [
      "\n",
      "  Using cached https://files.pythonhosted.org/packages/ad/fd/6bfe87920d7f4fd475acd28500a42482b6b84479832bdc0fe9e589a60ceb/Keras-2.3.1-py2.py3-none-any.whl\n",
      "Requirement already satisfied: six>=1.9.0 in c:\\users\\ishu\\appdata\\local\\programs\\python\\python38-32\\lib\\site-packages (from keras==2.3.1) (1.15.0)\n",
      "Collecting h5py (from keras==2.3.1)\n",
      "  Using cached https://files.pythonhosted.org/packages/ea/00/d0606cc0d6107a98f75b98367dc42917a67e3a7ec881636835f8e6987e6b/h5py-3.2.1.tar.gz\n",
      "  Installing build dependencies: started\n",
      "  Installing build dependencies: finished with status 'done'\n",
      "  Getting requirements to build wheel: started\n",
      "  Getting requirements to build wheel: finished with status 'done'\n",
      "  Installing backend dependencies: started\n",
      "  Installing backend dependencies: finished with status 'done'\n",
      "    Preparing wheel metadata: started\n",
      "    Preparing wheel metadata: finished with status 'done'\n",
      "Collecting keras-preprocessing>=1.0.5 (from keras==2.3.1)\n",
      "  Using cached https://files.pythonhosted.org/packages/79/4c/7c3275a01e12ef9368a892926ab932b33bb13d55794881e3573482b378a7/Keras_Preprocessing-1.1.2-py2.py3-none-any.whl\n",
      "Collecting keras-applications>=1.0.6 (from keras==2.3.1)\n",
      "  Using cached https://files.pythonhosted.org/packages/71/e3/19762fdfc62877ae9102edf6342d71b28fbfd9dea3d2f96a882ce099b03f/Keras_Applications-1.0.8-py3-none-any.whl\n",
      "Collecting pyyaml (from keras==2.3.1)\n",
      "  Using cached https://files.pythonhosted.org/packages/42/55/8f1ccdce64a42eb72d5509057d53badfeaa08814cea4d1d11cadaa2d2b3d/PyYAML-5.4.1-cp38-cp38-win32.whl\n",
      "Collecting scipy>=0.14 (from keras==2.3.1)\n",
      "  Using cached https://files.pythonhosted.org/packages/09/36/6bb996691df0fbe5ba37fb8bb19ca3786517ebad7d421ef3db606c9a1808/scipy-1.6.2-cp38-cp38-win32.whl\n",
      "Collecting numpy>=1.9.1 (from keras==2.3.1)\n",
      "  Using cached https://files.pythonhosted.org/packages/80/05/96c77b9e6070402288250c3f478faaa80a09db359d02e31866bf5cedff76/numpy-1.20.2-cp38-cp38-win32.whl\n",
      "Building wheels for collected packages: h5py\n",
      "  Building wheel for h5py (PEP 517): started\n",
      "  Building wheel for h5py (PEP 517): finished with status 'error'\n"
     ]
    },
    {
     "name": "stderr",
     "output_type": "stream",
     "text": [
      "  copying h5py\\_hl\\base.py -> build\\lib.win32-3.8\\h5py\\_hl\n",
      "  copying h5py\\_hl\\compat.py -> build\\lib.win32-3.8\\h5py\\_hl\n",
      "  copying h5py\\_hl\\dataset.py -> build\\lib.win32-3.8\\h5py\\_hl\n",
      "  copying h5py\\_hl\\datatype.py -> build\\lib.win32-3.8\\h5py\\_hl\n",
      "  copying h5py\\_hl\\dims.py -> build\\lib.win32-3.8\\h5py\\_hl\n",
      "  copying h5py\\_hl\\files.py -> build\\lib.win32-3.8\\h5py\\_hl\n",
      "  copying h5py\\_hl\\filters.py -> build\\lib.win32-3.8\\h5py\\_hl\n",
      "  copying h5py\\_hl\\group.py -> build\\lib.win32-3.8\\h5py\\_hl\n",
      "  copying h5py\\_hl\\selections.py -> build\\lib.win32-3.8\\h5py\\_hl\n",
      "  copying h5py\\_hl\\selections2.py -> build\\lib.win32-3.8\\h5py\\_hl\n",
      "  copying h5py\\_hl\\vds.py -> build\\lib.win32-3.8\\h5py\\_hl\n",
      "  copying h5py\\_hl\\__init__.py -> build\\lib.win32-3.8\\h5py\\_hl\n",
      "  creating build\\lib.win32-3.8\\h5py\\tests\n",
      "  copying h5py\\tests\\common.py -> build\\lib.win32-3.8\\h5py\\tests\n",
      "  copying h5py\\tests\\conftest.py -> build\\lib.win32-3.8\\h5py\\tests\n",
      "  copying h5py\\tests\\test_attribute_create.py -> build\\lib.win32-3.8\\h5py\\tests\n",
      "  copying h5py\\tests\\test_attrs.py -> build\\lib.win32-3.8\\h5py\\tests\n",
      "  copying h5py\\tests\\test_attrs_data.py -> build\\lib.win32-3.8\\h5py\\tests\n",
      "  copying h5py\\tests\\test_base.py -> build\\lib.win32-3.8\\h5py\\tests\n",
      "  copying h5py\\tests\\test_big_endian_file.py -> build\\lib.win32-3.8\\h5py\\tests\n",
      "  copying h5py\\tests\\test_completions.py -> build\\lib.win32-3.8\\h5py\\tests\n",
      "  copying h5py\\tests\\test_dataset.py -> build\\lib.win32-3.8\\h5py\\tests\n",
      "  copying h5py\\tests\\test_dataset_getitem.py -> build\\lib.win32-3.8\\h5py\\tests\n",
      "  copying h5py\\tests\\test_dataset_swmr.py -> build\\lib.win32-3.8\\h5py\\tests\n",
      "  copying h5py\\tests\\test_datatype.py -> build\\lib.win32-3.8\\h5py\\tests\n",
      "  copying h5py\\tests\\test_dimension_scales.py -> build\\lib.win32-3.8\\h5py\\tests\n",
      "  copying h5py\\tests\\test_dims_dimensionproxy.py -> build\\lib.win32-3.8\\h5py\\tests\n",
      "  copying h5py\\tests\\test_dtype.py -> build\\lib.win32-3.8\\h5py\\tests\n",
      "  copying h5py\\tests\\test_errors.py -> build\\lib.win32-3.8\\h5py\\tests\n",
      "  copying h5py\\tests\\test_file.py -> build\\lib.win32-3.8\\h5py\\tests\n",
      "  copying h5py\\tests\\test_file2.py -> build\\lib.win32-3.8\\h5py\\tests\n",
      "  copying h5py\\tests\\test_file_image.py -> build\\lib.win32-3.8\\h5py\\tests\n",
      "  copying h5py\\tests\\test_filters.py -> build\\lib.win32-3.8\\h5py\\tests\n",
      "  copying h5py\\tests\\test_group.py -> build\\lib.win32-3.8\\h5py\\tests\n",
      "  copying h5py\\tests\\test_h5.py -> build\\lib.win32-3.8\\h5py\\tests\n",
      "  copying h5py\\tests\\test_h5d_direct_chunk.py -> build\\lib.win32-3.8\\h5py\\tests\n",
      "  copying h5py\\tests\\test_h5f.py -> build\\lib.win32-3.8\\h5py\\tests\n",
      "  copying h5py\\tests\\test_h5o.py -> build\\lib.win32-3.8\\h5py\\tests\n",
      "  copying h5py\\tests\\test_h5p.py -> build\\lib.win32-3.8\\h5py\\tests\n",
      "  copying h5py\\tests\\test_h5pl.py -> build\\lib.win32-3.8\\h5py\\tests"
     ]
    }
   ],
   "source": [
    "pip install keras==2.3.1"
   ]
  },
  {
   "cell_type": "code",
   "execution_count": null,
   "id": "quiet-movie",
   "metadata": {},
   "outputs": [],
   "source": []
  }
 ],
 "metadata": {
  "kernelspec": {
   "display_name": "Python 3",
   "language": "python",
   "name": "python3"
  },
  "language_info": {
   "codemirror_mode": {
    "name": "ipython",
    "version": 3
   },
   "file_extension": ".py",
   "mimetype": "text/x-python",
   "name": "python",
   "nbconvert_exporter": "python",
   "pygments_lexer": "ipython3",
   "version": "3.8.0"
  }
 },
 "nbformat": 4,
 "nbformat_minor": 5
}
